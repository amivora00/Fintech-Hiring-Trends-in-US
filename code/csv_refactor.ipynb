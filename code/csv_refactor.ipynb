{
 "cells": [
  {
   "cell_type": "code",
   "execution_count": 30,
   "metadata": {},
   "outputs": [
    {
     "name": "stdout",
     "output_type": "stream",
     "text": [
      "[\n",
      "{\n",
      "\"jobID\": 3126747,\n",
      "\"link\": \"https://ms.taleo.net/careersection/2/jobdetail.ftl\",\n",
      "\"jobT\": \"Executive Director, Trader\",\n",
      "\"jobD\": \"Conduct market-making equities transactions by providing prices to clients of the Firm who are looking to trade exchange traded funds. Maintain responsibility for the inventory of the exchanged traded funds trading book. Make independent decisions regarding product prices and quoting these prices to clients. Review and decide which exchange traded funds to hold on book while anticipating future client demand. Act as a Trader on the D1 desk trading exchange traded funds, sector swaps, and sector futures. Conduct and review OTC exchange traded funds market making processes and risk pricing. Maintain responsibility for various delta one products, such as futures, sector swaps, and custom basket. Hedge trading book peripheral risks, specifically focusing on FX and interest rate risks. Requires a Masterâ€™s degree in Economics, Finance, Business Administration, or closely related field of study and five years of experience in the position offered or five (5) years of experience as an Analyst, Associate, Vice President, or related role on a trading desk. Requires five years of experience with: market making; making block markets in exchange traded funds including domestic equity, international equity, fixed income and commodity funds, and equity futures; ETF creation/redemption process; trading in global equity markets; building and maintaining customer relationships with clients active in the ETF space; and trading in local European markets with understanding of market structure and rules. Requires four years of experience with: managing risk trades exceeding $100 million in size and managing inventory of greater than $1 billion.\"\n",
      "},\n",
      "{\n",
      "\"jobID\": 3126231,\n",
      "\"link\": \"https://ms.taleo.net/careersection/2/jobdetail.ftl\",\n",
      "\"jobT\": \"Executive Administrative Assistant (Technology Management)\"\n",
      "\"jobD\": \"Morgan Stanley is a leading global financial services firm providing a wide range of investment banking, securities, investment management and wealth management services. The Firm's employees serve clients worldwide including corporations, governments and individuals from more than 1,200 offices in 43 countries. As a market leader, the talent and passion of our people is critical to our success. Together, we share a common set of values rooted in integrity, excellence and strong team ethic. Morgan Stanley can provide a superior foundation for building a professional career - a place for people to learn, to achieve and grow. A philosophy that balances personal lifestyles, perspectives and needs is an important part of our culture. Technology works as a strategic partner with Morgan Stanley business units and the world's leading technology companies to redefine how we do business in ever more global, complex, and dynamic financial markets. Morgan Stanley's sizeable investment in technology results in quantitative trading systems, cutting-edge modeling and simulation software, comprehensive risk and security systems, and robust client-relationship capabilities, plus the worldwide infrastructure that forms the backbone of these systems and tools. Our insights, our applications and infrastructure give a competitive edge to clients' businessesâ€”and to our own. Provide full secretarial / administrative support to assigned team. Provide administrative support to officers and other team members with the department support. Work as part of the Technology and Data Administration Team on policies and procedures. Keep calendars up to date including preparation of travel itineraries / schedules for business trips (travel details & contact telephone numbers should be entered) Pro-active: Identifies other value add areas for MDs over and above day to day tasks. Identifies areas for improvement and suggests solutions. Demonstrates willingness to learn about the business (helps integration into group) Excellent organizational skills Excellent time/priority management skills Word / PowerPoint / Excel / Outlook: Intermediate level   Creation of Word documents, Excel spreadsheets & databases and presentations / reports. Formatting of Word documents, if necessary importing data from/to various packages  Additional Comments: We need someone with confidence, who has a very professional manner and can juggle a number of tasks. The ideal candidate will have worked for a senior manager before\"\n",
      "},\n",
      "{\n",
      "\"jobID\": 3126691,\n",
      "\"link\": \"https://ms.taleo.net/careersection/2/jobdetail.ftl\",\n",
      "\"jobT\": \"Associate, Data Network Operations Engineer\",\n",
      "\"jobD\": \"Develop, execute, and test plans for network changes on a weekly basis. Gather requirements for new project implementations. Perform data center refresh by deploying new network devices. Provide Local Area Network (LAN) connectivity and implement configuration changes, software upgrades, and physical hardware support of network equipment. Act as an escalation point for Level 2 Deployment Engineers and roll out the production changes. Troubleshoot and provide a day-to-day Level 3 operational support. Participate in weekly design meetings and engage with various engineering teams to review the infrastructure. Participate in Change Advisory Board meetings to explain changes and answer any questions from the Change Board. Requires a Masterâ€™s in Electrical Engineering, Computer Engineering, or a related field of study and two (2) years of experience in the position offered or two (2) years as an Analyst Engineer, Associate Engineer, or related occupation in the technology field. Requires two (2) years of experience with Data networking principles; Supporting and implementing high-speed and secured network in production environments; Decoding packet captures and identifying network and application issues; and deploying and troubleshooting QoS. Requires two (2) years of experience with Hardware including Cisco Switches and Routers, Arista Switches, and HP and Dell switches; Ethernet technologies including spanning tree, vlans, trunking, channeling, multilayer switching, and VDI; WAN technologies including SONET/SDH and MPLS; IP routing protocols including OSPF, BGP, and RIP; Multicast routing including PIM, IGMP, and MSDP; Network Management System tools including SevOne, Spectrum, Splunk, and CMDB; and Instrumentation tools including Spectracom, Corvil and Extrahop.\"\n",
      "},\n",
      "{\n",
      "\"jobID\": 3126686,\n",
      "\"link\": \"https://ms.taleo.net/careersection/2/jobdetail.ftl\",\n",
      "\"jobT\": \"Vice President, Technical Lead\",\n",
      "\"jobD\": \"Create Party and Account Data Technologies architecture, infrastructure, and application stack including Master Data Management HUB, database, application servers, Operational Reference Store, High Availability, and Disaster Recovery. Provide architecture oversight and build enterprise application stacks for a master data management platform. Gather development requirements, conduct analysis, and conceptualize framework. Design and oversee prototype development and architectural framework. Prepare design documents. Develop and implement various technical standards. Ensure the development of technical solutions are aligned with organization processes and procedure. Conduct functional and performance tests for applications. Resolve discrepancies identified during development and testing. Resolve implementation and deployment issues. Participate in development project planning. Develop, modify, enhance, and review code. Prepare and review test cases. Review and analyze test results. Requires a Masterâ€™s in Computer Applications, Computer Science, or a related field of study and five (5) years of experience in the position offered or five (5) years as a Vice President, Technical Lead, or related occupation in the technology field. Requires five (5) years of experience: analyzing, designing, architecting, deploying, and implementing enterprise level software solutions and applications; overseeing full project development life cycle; creating functional, technical, and architecture documentations to capture end-to-end solutions including business processes, rules, and user references. Requires five (5) years of experience with: Siperian MDM (Informatica MDM); Oracle Golden Gate; Java; J2EE; Spring; Struts; Hibernate; Oracle; DB2; Rational Rose; IBM BPM; UML; Unix; Web Services; WebLogic; WebSphere; MQ Series; WS-Security; and XML/XSD.\"\n",
      "},\n",
      "{\n",
      "\"jobID\": 3125519,\n",
      "\"link\": \"https://ms.taleo.net/careersection/2/jobdetail.ftl\",\n",
      "\"jobT\": \"Vice President, UX Development\",\n",
      "\"jobD\": \"Responsible for engineering, design, development, delivery, and support of the technical solutions behind products and services. Define and lead common components and best practices, and standardize the processes by utilizing PTIstyles 3. Oversee, recommend, and implement appropriate solutions and enhancements to ensure that there is improvement in system reliability, performance, production availability, and stability.Requires a Masterâ€™s degree in Information Technology, Computer Engineering, Computer Science, or closely related field of study and three (3) years of experience in the position offered or three (3) years of experience as a Manager, Senior Manager, Vice President, or related occupation in financial services technology. Will accept a Bachelorâ€™s degree and five (5) years of experience in lieu of a Masterâ€™s degree and three (3) years of experience. Requires three (3) years of experience with: designing and implementing large scale enterprise applications including discover, design, implement, and optimize; front end development using JavaScript; Application Performance Analysis; object oriented design; development with Java/J2EE; REST; Junit; implementing WebSockets in a large scale application; using caching frameworks; full stack development; utilizing behavior driven development (BDD) frameworks in product development; RDBS and NoSQL databases; libraries; message handling; and error handling. Requires two (2) years of experience with: Angular AOT; Human Tasks; Business Objects (BO); Service Data Objects (SDO); Business Rule Engine (ODM); development using modern JavaScript frameworks including Angular, Angular2, and React JS; Jasmine; NodeJS; build and automation frameworks for JavaScript; IBM Process Designer; IBM business process management (BPM) process modules; business process execution language (BPEL) service component architecture (SCA) modules and bindings; and mediation modules. \"\n",
      "},\n",
      "{\n",
      "\"jobID\": 3126530,\n",
      "\"link\": \"https://ms.taleo.net/careersection/2/jobdetail.ftl\",\n",
      "\"jobT\": \"Full Stack Developer\",\n",
      "\"jobD\": \"Morgan Stanley is a leading global financial services firm providing a wide range of investment banking, securities, investment management and wealth management services. The Firm's employees serve clients worldwide including corporations, governments and individuals from more than 1,200 offices in 43 countries.Technology works as a strategic partner with Morgan Stanley business units and the world's leading technology companies to redefine how we do business in ever more global, complex, and dynamic financial markets. Morgan Stanley's sizeable investment in technology results in quantitative trading systems, cutting-edge modelling and simulation software, comprehensive risk and security systems, and robust client-relationship capabilities, plus the worldwide infrastructure that forms the backbone of these systems and tools. Our insights,our applications and infrastructure give a competitive edge to clients' businessesâ€”and to our own. Enterprise Technology & Services (ETS) delivers shared technology services for the Firm supporting all business applications and end users. ETS provides capabilities for all stages of the Firmâ€™s software development lifecycle, enabling productive coding, functional and integration testing, application releases, and ongoing monitoring and support for over 3,000 production applications. ETS also delivers all workplace technologies (desktop, mobile, voice, video, productivity, intranet/internet) in integrated configurations that boost the personal productivity of our employees. Application and end user services are delivered on a scalable, secure, and reliable infrastructure composed of seamlessly integrated datacenter, network, compute, cloud, storage, and database services.This position is with the Enterprise System Management (ESM) department. The position is with a team responsible for a set of systems used to manage Morgan Stanleyâ€™s IT inventory and assets data, together with their configuration and operational state. This data is critical for regulatory, operational, and efficiency purposes.We are executing a project to improve the provisioning, storing, querying, analyzing and extraction of knowledge from the data we manage, which is comprised of hundreds of millions of data elements. As part of this project we are renovating and improving our entire data management platform, currently based mostly on Sybase and Java processes. We already have graph databases that we use for analytics and we are looking into incorporating data lake technologies for our raw sources of data.As a full stack developer, youâ€™ll be building scalable system used to source our critical data. You will be involved in the implementation of web application used to visualize efficiently this data. You will participate actively in our sprint planning, retrospectives and demos and we expect you to provide constructive feedback on our pull requests and identify new ways to innovate. The core development team is based entirely in Montreal.We are looking for a candidate that is passionate about technology and likes to stay on the leading edge of development paradigms, data at scale and continuous delivery. The ideal candidate is someone who loves to learn and is a quick learner.Required skills:- Strong core Java programming skills (multithreading, asynchronous programming) - Strong knowledge of Unix/Linux fundamentals,5+ years of experience in back-end development in Java and Spring 5+ years of experience in front-end development - Knowledge of Angular 7 and Material Design- At least 2 years of experience working with Sybase ASE.- At least 2 years of experience working with ElasticSearch - At least 2 years of experience working with graph databases (preferably RDF-based)- Experience working with API gateways (such as apigee or mulesoft) - Experience building REST APIs using OpenAPI standards- Experience working with Apache zookeeper- Experience working with Kerberos-based authentication mechanisms - Experience developing applications for cloud and distributed environments- Track record of building, delivering and maintaining enterprise level applications- Good communication skills- Strong problem solving skills - Data Modelling and Data Analysis skills- Experience working with Apache Kafka- Experience working with Hazelcast - Bachelor Degree in Computer Science, engineering or related fields\"\n",
      "},\n",
      "{\n",
      "\"jobID\": 3124104,\n",
      "\"link\": \"https://ms.taleo.net/careersection/2/jobdetail.ftl\",\n",
      "\"jobT\": \"Fixed Income Platform IT Lead\",\n",
      "\"jobD\": \"Morgan Stanley Investment Management strives to provide outstanding long-term investment performance, service and a comprehensive suite of investment management solutions to a diverse client base, which includes governments, institutions, corporations and individuals worldwide. MS Investment Management Technology is responsible for the design, development, delivery, and support of the global technical platforms that supports the MSIM Business.Morgan Stanley Investment Management Fixed Income Technology is looking for an IT Lead with prior expertise in STP and automation of workflows related to Portfolio Construction, Compliance, Trading, Booking, Recon. The FI Technology team sits within the larger Investment Management technology organization and builds state of the art technology solutions for the FI business with a global user base and an AUM of 400BAssist in building a strong partnership with the FI COO and Head of Trading to drive the Fixed Income platform strategy forward Drive the business analysis, creation of functional specs and also lead the FI IT team to ensure effective and timely delivery of IT product automation, new solutions and enhancements Develop a thorough understanding of the operational requirements of the FI IT platform and leverage technical expertise to design and deliver IT solutionsLead the FI IT Team for project initiations, planning, solution design, oversee delivery, prioritize strategic work versus enhancements Key anchor and point person for the Fixed Income Business user base. Able to drive conversations and manage user expectations with competing prioritiesDevelop a thorough understanding of MSIM technologyâ€™s development processes and requirements working closely with peer teams such as Data Management IT, Operations IT etc.Keep up to date with market developments in the Asset Management FI space and bring innovative ideas to the platform to maintain a competitive advantage Keep up to date with market developments in the Asset Management FI space and bring innovative ideas to the platform to maintain a competitive advantage Drive the Fixed Income Data Rationalization and streamlining initiative Deep foundational knowledge of Fixed Income derivatives & bond products Prior experience building solutions for the FI Front Office area. Deep familiarity with FI fundamentals, research and analytics is required Technically savvy; from a technical background to be able to drive discussions and decision points around platform design, technology choices, integration options Hands-on in platform analysis, design and development Innovative mindset; Leadership in challenging the status quo and ability to propose new enhancements to improve the quality of the FI platform and overall user Experience / Satisfaction Prior experience in building integrations with FI Execution Venue and Liquidity Sources a huge plus Thorough understanding of electronic trading industry Ability to build strong trust relationships with the business Excellent communication and presentation skills Results oriented Team-player Experience in Core Java, multithreading, T-SQL, Scripting Bachelors / Masters in Information Technology or related field.8-10 Years of relevant experience\"\n",
      "},\n",
      "{\n",
      "\"jobID\": 3125514,\n",
      "\"link\": \"https://ms.taleo.net/careersection/2/jobdetail.ftl\",\n",
      "\"jobT\": \"Associate, SPG Middle Tier Developer\",\n",
      "\"jobD\": \"Morgan Stanley Services Group Inc. seeks an Associate, SPG Middle Tier Developer Define and build efficient and maintainable processes that provide highly resilient and stable platforms to support critical risk and trade capture processing requirements. Integrate applications and provide for data exchanges between applications. Work with other teams and business areas to ensure that the data required for proper risk and trade processing is made available. Understand volume growth to ensure the system and infrastructure scale to meet ever-increasing demand. Work on real-time trade-entry, position management, and P&L platform. Work with traders, operations, strats, controllers, mainframe teams, and other non-SPG trade-capture groups. Involved with MS SPG businesses. Work closely with users and engineering teams to define the best possible solutions. Engage users to identify requirements, direction, and issues.Requires a Masterâ€™s degree in Computer Science, Computer Engineering, Electronic Engineering, or closely related field of study and four (4) years of experience in the position offered or four (4) years of experience as a Programmer, Developer, or related occupation. Requires four (4) years of experience with: C++ development; Unix/Linux; Perl; shell; Sybase SQL; designing and deploying mission critical infrastructure software that runs in a real-time, multi-threaded environment; application server design and development including receiving data streams from disparate sources, processing and enriching that data, and feeding multiple downstream systems; messaging, pub/sub, and market data distribution systems; supporting distributed systems in a highly complex environment; troubleshooting and following a methodical approach to problem resolution; working on a global team; project management; Fixed Income products and business; and Fixed Income trading systems. Will accept any amount of experience with: SOAP/XML/WSDL; networking; Korn shell scripting; and Autosys. \"\n",
      "},\n",
      "{\n",
      "\"jobID\": 3125693,\n",
      "\"link\": \"https://ms.taleo.net/careersection/2/jobdetail.ftl\",\n",
      "\"jobT\": \"Senior Database Application DBA/Infrastructure Specialist\",\n",
      "\"jobD\": \"Morgan Stanley is a leading global financial services firm providing a wide range of investment banking, securities, investment management and wealth management services. The Firm's employees serve clients worldwide including corporations, governments and individuals from more than 1,200 offices in 43 countries.As a market leader, the talent and passion of our people is critical to our success. Together, we share a common set of values rooted in integrity, excellence and strong team ethic. Morgan Stanley can provide a superior foundation for building a professional career - a place for people to learn, to achieve and grow. A philosophy that balances personal lifestyles, perspectives and needs is an important part of our culture. Morgan Stanley is an equal opportunities employer. We work to provide a supportive and inclusive environment where all individuals can maximize their full potential. Our skilled and creative workforce is comprised of individuals drawn from a broad cross section of the global communities in which we operate and who reflect a variety of backgrounds, talents, perspectives and experiences. Our strong commitment to a culture of inclusion is evident through our constant focus on recruiting, developing and advancing individuals based on their skills and talents. This position is for a database developer role in the transactional data team. Among many other databases, our team manages the firm critical Institutional Trade Capture databases and is responsible for the OTC Derivatives Trades Internal Reporting. We are a team of highly technical individuals who manage a large number of databases that include Big Data volumes. We deliver multiple projects for multiple business areas in parallel. The business owners and subject matter experts are globally distributed, making strong communication skills important to the position. The candidate will be expected to work closely with our IT partners in analyzing and delivering on business requirements. Development will utilize an agile methodology, which is based on scrum (time boxing, daily scrum meetings, retrospectives, etc.), and XP (continuous integration, refactoring, unit testing, etc) best practices. Candidates must therefore be able to work collaboratively, demonstrate good ownership and be able to work well in teams. Work will include designing, enhancing and developing databases across different database environments. The job will involve considering all aspects of the project life cycle and includes proof-of-concept evaluations, coding, designing, testing, implementing, deploying, and continued support of project releases as well as on-call Level 2 support. Collaboration with the Firmâ€™s engineering teams is expected. - Database Infrastructure Engineering for stability, scalability and capacity planning.- Application DBA functions: plan & execute database schema changes, bottleneck analysis, outage prevention/resolution, server/database performance improvements, database maintenance, database recovery, etc. - Database development (stored procedures, ETL, tools) and queries/stored procedures review and optimization. - Enforce database security, standards & guidelines. - 3-5 years of experience of DB2 Linux (SQL, Temp tables, plan explains, MQTs, MDCs, referential integrity constraints, etc) and Sybase- The candidate must have advanced scripting knowledge such as: Python or Perl - The candidate must have advanced knowledge base of relational database performance and tuning such as: proper use of indices, database statistics/reorgs, de-normalization concepts, memory management, database configurations, etc. - The candidate must have knowledge of database modelling tool such as power designer - The candidate must have advanced knowledge base of relational database performance and tuning such as: proper use of indices, database statistics/reorgs, de-normalization concepts, memory management, database configurations, etc. - Basic knowledge of other databases is a plus. - The candidate must have advanced scripting knowledge such as: Python or Perl.- The candidate must have advanced knowledge base of relational database performance and tuning such as: proper use of indices, database statistics/reorgs, de-normalization concepts, memory management, database configurations, etc. - Knowledge of Database cloning tools such as Delphix - Versioning tools such as perforce and git is a plus, but not required.- Knowledge of financial instruments would be a great benefit - Bachelorâ€™s Degree or Masterâ€™s Degree in computer science, mathematics or relatedIntegrity & ownership, good team player, ability to work under time and resource dependencies and constraints, ability to find simple and effective solutions, high degree of motivation to expand technical and business knowledge. Benefits offered: A corporate medical, dental and life insurance as well as short-term and long-term disability insurance plans, 4 weeks of vacation per year, 6% RRSP matching up to an annual cap of $8,000.\"\n",
      "},\n"
     ]
    },
    {
     "ename": "IndexError",
     "evalue": "list index out of range",
     "output_type": "error",
     "traceback": [
      "\u001b[1;31m---------------------------------------------------------------------------\u001b[0m",
      "\u001b[1;31mIndexError\u001b[0m                                Traceback (most recent call last)",
      "\u001b[1;32m<ipython-input-30-838b05aecbca>\u001b[0m in \u001b[0;36m<module>\u001b[1;34m\u001b[0m\n\u001b[0;32m      4\u001b[0m     \u001b[0mline_count\u001b[0m \u001b[1;33m=\u001b[0m \u001b[1;36m0\u001b[0m\u001b[1;33m\u001b[0m\u001b[1;33m\u001b[0m\u001b[0m\n\u001b[0;32m      5\u001b[0m     \u001b[1;32mfor\u001b[0m \u001b[0mrow\u001b[0m \u001b[1;32min\u001b[0m \u001b[0mcsv_reader\u001b[0m\u001b[1;33m:\u001b[0m\u001b[1;33m\u001b[0m\u001b[1;33m\u001b[0m\u001b[0m\n\u001b[1;32m----> 6\u001b[1;33m         \u001b[0mdata\u001b[0m \u001b[1;33m=\u001b[0m \u001b[0mrow\u001b[0m\u001b[1;33m[\u001b[0m\u001b[1;36m0\u001b[0m\u001b[1;33m]\u001b[0m\u001b[1;33m\u001b[0m\u001b[1;33m\u001b[0m\u001b[0m\n\u001b[0m\u001b[0;32m      7\u001b[0m         \u001b[0mprint\u001b[0m\u001b[1;33m(\u001b[0m\u001b[0mdata\u001b[0m\u001b[1;33m)\u001b[0m\u001b[1;33m\u001b[0m\u001b[1;33m\u001b[0m\u001b[0m\n\u001b[0;32m      8\u001b[0m         \u001b[1;31m#splitData = data.split('{')\u001b[0m\u001b[1;33m\u001b[0m\u001b[1;33m\u001b[0m\u001b[1;33m\u001b[0m\u001b[0m\n",
      "\u001b[1;31mIndexError\u001b[0m: list index out of range"
     ]
    }
   ],
   "source": [
    "import csv\n",
    "with open('results.csv', 'r') as f :\n",
    "    csv_reader = csv.reader(f)\n",
    "    line_count = 0\n",
    "    for row in csv_reader:\n",
    "        data = row[0]\n",
    "        print(data)\n",
    "        while()\n",
    "        #splitData = data.split('{')\n",
    "        #print(splitData)\n",
    "        #commaSplitValues = splitData.split(',')\n",
    "        #print(commaSplitValues)\n",
    "        \n",
    "        \n",
    "        "
   ]
  },
  {
   "cell_type": "code",
   "execution_count": null,
   "metadata": {},
   "outputs": [],
   "source": []
  },
  {
   "cell_type": "code",
   "execution_count": null,
   "metadata": {},
   "outputs": [],
   "source": []
  },
  {
   "cell_type": "code",
   "execution_count": null,
   "metadata": {},
   "outputs": [],
   "source": []
  },
  {
   "cell_type": "code",
   "execution_count": null,
   "metadata": {},
   "outputs": [],
   "source": []
  }
 ],
 "metadata": {
  "kernelspec": {
   "display_name": "Python 3",
   "language": "python",
   "name": "python3"
  },
  "language_info": {
   "codemirror_mode": {
    "name": "ipython",
    "version": 3
   },
   "file_extension": ".py",
   "mimetype": "text/x-python",
   "name": "python",
   "nbconvert_exporter": "python",
   "pygments_lexer": "ipython3",
   "version": "3.7.1"
  }
 },
 "nbformat": 4,
 "nbformat_minor": 2
}
