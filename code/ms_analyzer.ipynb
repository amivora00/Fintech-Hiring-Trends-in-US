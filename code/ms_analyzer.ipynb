{
 "cells": [
  {
   "cell_type": "code",
   "execution_count": null,
   "metadata": {},
   "outputs": [],
   "source": [
    "import pandas as pd\n",
    "from selenium import webdriver\n",
    "from selenium.webdriver.common.by import By\n",
    "from selenium.webdriver.support import expected_conditions as EC\n",
    "from selenium.webdriver.support.ui import WebDriverWait\n",
    "import re\n",
    "import csv\n",
    "\n",
    "driver = webdriver.Chrome('/Users/amivora/Downloads/chromedriver')\n",
    "target_url = 'https://ms.taleo.net/careersection/2/moresearch.ftl;jsessionid=4arnSxY8eNOOwoalVDMb6HPp4TBIYniVT83doaA4x_4pWQjKFxkl!-497835726'\n",
    "driver.get(target_url)\n",
    "\n",
    "jobs = []\n",
    "page = 0\n",
    "#head to first MS page\n",
    "driver.find_elements_by_id('requisitionListInterface.reqTitleLinkAction.row1')[0].click()\n",
    "index = 0\n",
    "for i in range(0,1000):\n",
    "    try: \n",
    "        jobdict = {}\n",
    "        job_title = driver.find_element_by_id('requisitionDescriptionInterface.reqTitleLinkAction.row1').text\n",
    "        job_number = driver.find_element_by_id('requisitionDescriptionInterface.reqContestNumberValue.row1').text\n",
    "        primary_location = driver.find_element_by_id('requisitionDescriptionInterface.ID1722.row1').text\n",
    "        job_type = driver.find_element_by_id('requisitionDescriptionInterface.ID1822.row1').text\n",
    "        description = re.sub('[^A-Za-z]+', ' ', driver.find_element_by_id('requisitionDescriptionInterface.ID1968.row1').text)\n",
    "        description += re.sub('[^A-Za-z]+', ' ',driver.find_element_by_id('requisitionDescriptionInterface.ID1999.row1').text)\n",
    "        description += re.sub('[^A-Za-z]+', ' ',driver.find_element_by_id('requisitionDescriptionInterface.ID2024.row1').text)\n",
    "        jobdict['Job Number'] = job_number\n",
    "        jobdict['Job Type'] = job_type\n",
    "        jobdict['url'] = target_url\n",
    "        jobdict['Job Title'] = job_title\n",
    "        jobdict['Job Responsibilities'] = description\n",
    "        jobdict['Location'] = primary_location\n",
    "        keys = jobdict.keys()\n",
    "        with open('../deliverables/ms_jobs.csv', 'a') as output_file:\n",
    "            dict_writer = csv.DictWriter(output_file, keys)\n",
    "            if index == 0:\n",
    "                dict_writer.writeheader()\n",
    "            dict_writer.writerow(jobdict)\n",
    "        index = 1;\n",
    "    except:\n",
    "        pass\n",
    "    #move to next job\n",
    "    driver.find_element_by_id('requisitionDescriptionInterface.pagerDivID894.Next').click()"
   ]
  },
  {
   "cell_type": "code",
   "execution_count": null,
   "metadata": {},
   "outputs": [],
   "source": []
  },
  {
   "cell_type": "code",
   "execution_count": null,
   "metadata": {},
   "outputs": [],
   "source": []
  }
 ],
 "metadata": {
  "kernelspec": {
   "display_name": "Python 3",
   "language": "python",
   "name": "python3"
  },
  "language_info": {
   "codemirror_mode": {
    "name": "ipython",
    "version": 3
   },
   "file_extension": ".py",
   "mimetype": "text/x-python",
   "name": "python",
   "nbconvert_exporter": "python",
   "pygments_lexer": "ipython3",
   "version": "3.7.1"
  }
 },
 "nbformat": 4,
 "nbformat_minor": 2
}
